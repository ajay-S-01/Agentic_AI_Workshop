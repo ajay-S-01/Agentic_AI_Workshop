{
  "cells": [
    {
      "cell_type": "code",
      "execution_count": null,
      "metadata": {
        "id": "fg3YZlxPiQIR"
      },
      "outputs": [],
      "source": [
        "# Install dependencies silently\n",
        "%pip install pyautogen autogen google-generativeai --quiet\n"
      ]
    },
    {
      "cell_type": "code",
      "execution_count": null,
      "metadata": {
        "id": "fd0TaA6giRrf"
      },
      "outputs": [],
      "source": [
        "import os\n",
        "import google.generativeai as genai\n",
        "from autogen import AssistantAgent, UserProxyAgent, GroupChat, GroupChatManager"
      ]
    },
    {
      "cell_type": "code",
      "execution_count": null,
      "metadata": {
        "id": "qERZheCZiTn3"
      },
      "outputs": [],
      "source": [
        "# Setup Gemini API\n",
        "os.environ[\"GOOGLE_API_KEY\"] = \"Your_key\"\n",
        "genai.configure(api_key=os.environ[\"GOOGLE_API_KEY\"])\n",
        "\n",
        "llm_setup = {\n",
        "    \"config_list\": [\n",
        "        {\n",
        "            \"model\": \"gemini-1.5-flash\",\n",
        "            \"api_key\": os.environ[\"GOOGLE_API_KEY\"],\n",
        "            \"api_type\": \"google\"\n",
        "        }\n",
        "    ]\n",
        "}\n",
        " "
      ]
    },
    {
      "cell_type": "code",
      "execution_count": null,
      "metadata": {
        "id": "tCbFRGHfiVeg"
      },
      "outputs": [],
      "source": [
        "# Strategic Evaluation Engine\n",
        "class StrategyEngine:\n",
        "    def __init__(self):\n",
        "        self.strategy = None\n",
        "\n",
        "    def evaluate(self, data):\n",
        "        net_investments = data['fixed_deposits'] + data['sip_value'] + data['property_value']\n",
        "        if net_investments < data['income'] * 2:\n",
        "            self.strategy = \"GROWTH\"\n",
        "        else:\n",
        "            self.strategy = \"VALUE\"\n",
        "        return self.strategy\n"
      ]
    },
    {
      "cell_type": "code",
      "execution_count": null,
      "metadata": {
        "id": "3fI8X-BBiXnP"
      },
      "outputs": [],
      "source": [
        "# Define Financial Agents\n",
        "analysis_bot = AssistantAgent(\n",
        "    name=\"AnalysisBot\",\n",
        "    llm_config=llm_setup,\n",
        "    system_message=\"\"\"You are AnalysisBot.\n",
        "    Your task is to analyze the user's portfolio and identify the suitable investment category: Growth or Value.\n",
        "\n",
        "    Your response must include:\n",
        "    - Portfolio review\n",
        "    - Recommended investment type\n",
        "    - Rationale for your decision\"\"\"\n",
        ")\n",
        "\n",
        "growth_specialist = AssistantAgent(\n",
        "    name=\"GrowthSpecialist\",\n",
        "    llm_config=llm_setup,\n",
        "    system_message=\"\"\"You are GrowthSpecialist.\n",
        "    Recommend aggressive investment opportunities such as:\n",
        "    - High-return mutual funds\n",
        "    - Emerging market equities\n",
        "    - Startups or high-volatility assets\n",
        "\n",
        "    Mention expected returns clearly.\"\"\"\n",
        ")\n",
        "\n",
        "value_specialist = AssistantAgent(\n",
        "    name=\"ValueSpecialist\",\n",
        "    llm_config=llm_setup,\n",
        "    system_message=\"\"\"You are ValueSpecialist.\n",
        "    Recommend steady investment options like:\n",
        "    - Blue-chip stocks\n",
        "    - Government bonds\n",
        "    - Dividend-generating funds or deposits\n",
        "\n",
        "    Focus on risk-free, long-term value investments.\"\"\"\n",
        ")\n",
        "\n",
        "final_reporter = AssistantAgent(\n",
        "    name=\"ReportGenerator\",\n",
        "    llm_config=llm_setup,\n",
        "    system_message=\"\"\"You are ReportGenerator.\n",
        "    Compile a comprehensive investment report combining:\n",
        "    - Analysis insights\n",
        "    - Recommendations from investment agents\n",
        "\n",
        "    Present the output in a professional, user-friendly tone with clear suggestions.\"\"\"\n",
        ")\n",
        "\n",
        "client_proxy = UserProxyAgent(\n",
        "    name=\"ClientProxyAgent\",\n",
        "    human_input_mode=\"NEVER\",\n",
        "    system_message=\"You represent the investor and start the evaluation process.\"\n",
        ")\n"
      ]
    },
    {
      "cell_type": "code",
      "execution_count": null,
      "metadata": {
        "id": "5O8A-z0BiaDY"
      },
      "outputs": [],
      "source": [
        "# Portfolio Management Function\n",
        "def start_investment_planner():\n",
        "    print(\"💼 Welcome to AI Investment Planner\")\n",
        "\n",
        "    # Collect user portfolio inputs\n",
        "    income = float(input(\"Enter your monthly income: ₹\"))\n",
        "    fixed = float(input(\"Amount in Fixed Deposits: ₹\"))\n",
        "    sip = float(input(\"Total SIP investments: ₹\"))\n",
        "    property_val = float(input(\"Real Estate asset value: ₹\"))\n",
        "\n",
        "    user_data = {\n",
        "        \"income\": income,\n",
        "        \"fixed_deposits\": fixed,\n",
        "        \"sip_value\": sip,\n",
        "        \"property_value\": property_val\n",
        "    }\n",
        "\n",
        "    # Evaluate the strategy\n",
        "    strategy_checker = StrategyEngine()\n",
        "    investment_style = strategy_checker.evaluate(user_data)\n",
        "    print(f\"\\n🔍 Recommended Strategy: {investment_style}\")\n",
        "\n",
        "    # Select relevant investment agent\n",
        "    selected_advisor = growth_specialist if investment_style == \"GROWTH\" else value_specialist\n",
        "\n",
        "    # Group Chat setup\n",
        "    chat_room = GroupChat(\n",
        "        agents=[client_proxy, analysis_bot, selected_advisor, final_reporter],\n",
        "        messages=[],\n",
        "        max_round=6\n",
        "    )\n",
        "\n",
        "    group_manager = GroupChatManager(\n",
        "        groupchat=chat_room,\n",
        "        llm_config=llm_setup\n",
        "    )\n",
        "\n",
        "    # Initiate conversation\n",
        "    portfolio_summary = f\"\"\"\n",
        "    Investor Data:\n",
        "    - Monthly Income: ₹{income:,.2f}\n",
        "    - Fixed Deposits: ₹{fixed:,.2f}\n",
        "    - SIPs: ₹{sip:,.2f}\n",
        "    - Real Estate Value: ₹{property_val:,.2f}\n",
        "\n",
        "    Investment Strategy Selected: {investment_style}\n",
        "\n",
        "    AnalysisBot: Please review the investor profile.\n",
        "    {selected_advisor.name}: Recommend suitable {investment_style.lower()} investments.\n",
        "    ReportGenerator: Summarize a detailed financial report.\n",
        "    \"\"\"\n",
        "\n",
        "    print(\"\\n🚀 Launching AI Investment Session...\\n\")\n",
        "    result = client_proxy.initiate_chat(\n",
        "        recipient=group_manager,\n",
        "        message=portfolio_summary,\n",
        "        max_turns=6\n",
        "    )\n",
        "\n",
        "    # Final Display\n",
        "    print(\"\\n✅ Investment Planning Complete\")\n",
        "    print(f\"📈 Strategy Used: {investment_style}\")\n",
        "    print(f\"💰 Total Assets: ₹{fixed + sip + property_val:,.2f}\")\n"
      ]
    },
    {
      "cell_type": "code",
      "execution_count": null,
      "metadata": {
        "id": "DSyhcpVNionw"
      },
      "outputs": [],
      "source": [
        "# Run the system\n",
        "if __name__ == \"__main__\":\n",
        "    start_investment_planner()\n"
      ]
    }
  ],
  "metadata": {
    "colab": {
      "provenance": []
    },
    "kernelspec": {
      "display_name": "Python 3",
      "name": "python3"
    },
    "language_info": {
      "name": "python"
    }
  },
  "nbformat": 4,
  "nbformat_minor": 0
}
