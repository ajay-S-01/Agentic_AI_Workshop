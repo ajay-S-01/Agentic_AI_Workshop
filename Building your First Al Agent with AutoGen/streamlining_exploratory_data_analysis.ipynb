{
  "cells": [
    {
      "cell_type": "markdown",
      "metadata": {},
      "source": [
        "# 📊 Multi-Agent EDA System with Gemini and CrewAI\n",
        "This notebook demonstrates a refined implementation of a multi-agent EDA system using Google Gemini and CrewAI-compatible agents."
      ]
    },
    {
      "cell_type": "code",
      "execution_count": null,
      "metadata": {},
      "outputs": [],
      "source": [
        "%pip install -q pyautogen google-generativeai pandas matplotlib seaborn autogen\n"
      ]
    },
    {
      "cell_type": "code",
      "execution_count": null,
      "metadata": {},
      "outputs": [],
      "source": [
        "import os\n",
        "import pandas as pd\n",
        "import numpy as np\n",
        "import matplotlib.pyplot as plt\n",
        "import seaborn as sns\n",
        "from autogen import AssistantAgent, UserProxyAgent\n",
        "import google.generativeai as genai\n"
      ]
    },
    {
      "cell_type": "code",
      "execution_count": null,
      "metadata": {},
      "outputs": [],
      "source": [
        "class GeminiLLM:\n",
        "    def __init__(self, api_key, model=\"gemini-1.5-flash\"):\n",
        "        self.api_key = api_key\n",
        "        genai.configure(api_key=api_key)\n",
        "        self.model = model\n",
        "\n",
        "    def config(self):\n",
        "        return {\n",
        "            \"model\": self.model,\n",
        "            \"api_key\": self.api_key,\n",
        "            \"api_type\": \"google\"\n",
        "        }\n"
      ]
    },
    {
      "cell_type": "code",
      "execution_count": null,
      "metadata": {},
      "outputs": [],
      "source": [
        "class EDAAgentSystem:\n",
        "    def __init__(self, api_key):\n",
        "        self.llm = GeminiLLM(api_key)\n",
        "        self.dataset = None\n",
        "        self._init_agents()\n",
        "\n",
        "    def _init_agents(self):\n",
        "        config = {\"config_list\": [self.llm.config()], \"temperature\": 0.2}\n",
        "\n",
        "        self.agents = {\n",
        "            \"data_cleaner\": AssistantAgent(\n",
        "                name=\"DataCleanerAgent\",\n",
        "                llm_config=config,\n",
        "                system_message=\"Clean data, handle NaNs and outliers.\"\n",
        "            ),\n",
        "            \"eda_analyst\": AssistantAgent(\n",
        "                name=\"EDAAnalystAgent\",\n",
        "                llm_config=config,\n",
        "                system_message=\"Perform statistical summaries and distributions.\"\n",
        "            ),\n",
        "            \"report_writer\": AssistantAgent(\n",
        "                name=\"ReportWriterAgent\",\n",
        "                llm_config=config,\n",
        "                system_message=\"Compile the EDA results into a summary report.\"\n",
        "            ),\n",
        "            \"user_proxy\": UserProxyAgent(\n",
        "                name=\"UserAgent\",\n",
        "                human_input_mode=\"NEVER\",\n",
        "                system_message=\"Represent the user and coordinate EDA agents.\"\n",
        "            )\n",
        "        }\n",
        "\n",
        "    def generate_data(self, seed=42):\n",
        "        np.random.seed(seed)\n",
        "        df = pd.DataFrame({\n",
        "            \"age\": np.random.randint(20, 60, 200),\n",
        "            \"income\": np.random.normal(50000, 12000, 200),\n",
        "            \"satisfaction\": np.random.uniform(1, 10, 200)\n",
        "        })\n",
        "        df.loc[np.random.choice(df.index, 20), \"income\"] = np.nan\n",
        "        df.loc[np.random.choice(df.index, 10), \"satisfaction\"] = 15\n",
        "        self.dataset = df\n",
        "        print(\"✅ Dataset created with missing values and outliers.\")\n",
        "        return df\n"
      ]
    },
    {
      "cell_type": "code",
      "execution_count": null,
      "metadata": {},
      "outputs": [],
      "source": [
        "    def summarize_data(self):\n",
        "        if self.dataset is None:\n",
        "            raise ValueError(\"Dataset not loaded.\")\n",
        "        summary = {\n",
        "            \"Shape\": self.dataset.shape,\n",
        "            \"Missing Values\": self.dataset.isnull().sum().to_dict(),\n",
        "            \"Description\": self.dataset.describe().to_dict()\n",
        "        }\n",
        "        return summary\n"
      ]
    },
    {
      "cell_type": "code",
      "execution_count": null,
      "metadata": {},
      "outputs": [],
      "source": [
        "# Instantiate and run\n",
        "api_key = \"your_gemini_api_key_here\"\n",
        "eda = EDAAgentSystem(api_key)\n",
        "df = eda.generate_data()\n",
        "eda_summary = eda.summarize_data()\n",
        "eda_summary\n"
      ]
    },
    {
      "cell_type": "code",
      "execution_count": null,
      "metadata": {},
      "outputs": [],
      "source": [
        "# Plot income histogram\n",
        "sns.histplot(df['income'].dropna(), kde=True, color='teal', bins=30)\n",
        "plt.title(\"Income Distribution\")\n",
        "plt.xlabel(\"Income\")\n",
        "plt.ylabel(\"Frequency\")\n",
        "plt.grid(True)\n",
        "plt.show()\n"
      ]
    }
  ],
  "metadata": {
    "colab": {
      "provenance": []
    },
    "kernelspec": {
      "display_name": "Python 3",
      "name": "python3"
    },
    "language_info": {
      "name": "python"
    }
  },
  "nbformat": 4,
  "nbformat_minor": 0
}
